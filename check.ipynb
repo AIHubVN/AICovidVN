{
 "cells": [
  {
   "cell_type": "code",
   "execution_count": 112,
   "id": "e394e8b1-deb7-4edb-bf4c-9d1b79e19dc0",
   "metadata": {},
   "outputs": [],
   "source": [
    "import os\n",
    "\n",
    "import numpy as np\n",
    "import pandas as pd\n",
    "import pytest"
   ]
  },
  {
   "cell_type": "markdown",
   "id": "cb1057ec-d9ee-4b0b-8286-1f8f389ea158",
   "metadata": {},
   "source": [
    "* link for dowload all submission:\n",
    "https://drive.google.com/drive/folders/1gTEZz4fsOu3nsKLwjM1BwV9Tnz1MuoUN?usp=sharing"
   ]
  },
  {
   "cell_type": "code",
   "execution_count": 113,
   "id": "ed92ee0c-e965-4f1b-b6c5-e24565ac3017",
   "metadata": {},
   "outputs": [],
   "source": [
    "listdir = os.listdir('./')[1:]\n",
    "listdir.remove('check.ipynb')"
   ]
  },
  {
   "cell_type": "code",
   "execution_count": 116,
   "id": "02dda213-a295-4ba2-87f7-b57492b3e70d",
   "metadata": {
    "collapsed": true,
    "jupyter": {
     "outputs_hidden": true
    },
    "tags": []
   },
   "outputs": [
    {
     "data": {
      "text/plain": [
       "['alllucky',\n",
       " 'benht33',\n",
       " 'bietsosoAI',\n",
       " 'binhh',\n",
       " 'briannguyen',\n",
       " 'BUIBAANH',\n",
       " 'chauhuynh',\n",
       " 'congvm.it',\n",
       " 'cuong1080p',\n",
       " 'doankhai97',\n",
       " 'dragon_vn',\n",
       " 'DTAG',\n",
       " 'duongb',\n",
       " 'empty258',\n",
       " 'FastboyTeam',\n",
       " 'ffyytt',\n",
       " 'gengar',\n",
       " 'hhoanguet',\n",
       " 'hieungotrung',\n",
       " 'hieutrungdao',\n",
       " 'hoaf13',\n",
       " 'hungdinhvan',\n",
       " 'itruonghai',\n",
       " 'jackha0508',\n",
       " 'jeovach',\n",
       " 'Jindo',\n",
       " 'Julyan',\n",
       " 'khangnd143',\n",
       " 'khangtran97',\n",
       " 'KhanhVu',\n",
       " 'kidbandeath',\n",
       " 'kingkong',\n",
       " 'kitachi',\n",
       " 'KurokoTetsuya',\n",
       " 'lamphattai',\n",
       " 'Lazyman',\n",
       " 'ldnguyen',\n",
       " 'lhduc94',\n",
       " 'LHK',\n",
       " 'maint',\n",
       " 'manhdung2011200',\n",
       " 'meoconxinhxan',\n",
       " 'minhhieu_spk',\n",
       " 'motconmeobuon',\n",
       " 'namdvt',\n",
       " 'ndson',\n",
       " 'ngngsonan',\n",
       " 'Nhan',\n",
       " 'nktoan',\n",
       " 'NNTTai',\n",
       " 'NoahDrisort',\n",
       " 'none',\n",
       " 'oggyfaker',\n",
       " 'phattrann',\n",
       " 'phattruong',\n",
       " 'phongdk',\n",
       " 'phu181999',\n",
       " 'piggy2303',\n",
       " 'quang',\n",
       " 'quangnh009182',\n",
       " 'runningBear',\n",
       " 'Ryder',\n",
       " 'sherlockvn',\n",
       " 'smartcall',\n",
       " 'tatu96',\n",
       " 'test123',\n",
       " 'tgialoimtr',\n",
       " 'thancaocuong',\n",
       " 'thanhhhh',\n",
       " 'thien1892',\n",
       " 'thucltt',\n",
       " 'tiennhm',\n",
       " 'tinyswish',\n",
       " 'titan',\n",
       " 'toanvu',\n",
       " 'tonypham',\n",
       " 'train',\n",
       " 'TranTien',\n",
       " 'traunhi_love11',\n",
       " 'trietnm2',\n",
       " 'tson99',\n",
       " 'tuan_minh_le',\n",
       " 'tungch',\n",
       " 'utension',\n",
       " 'utng',\n",
       " 'vanhocvp',\n",
       " 'vansangtt',\n",
       " 'vlozg',\n",
       " 'vokhanhan25',\n",
       " 'VuiChoiCoThuong',\n",
       " 'WhyNot',\n",
       " 'wilnguyen2211',\n",
       " 'wiseking',\n",
       " 'xhoang',\n",
       " 'xngtinh',\n",
       " 'yoongaehwa',\n",
       " 'Zic']"
      ]
     },
     "execution_count": 116,
     "metadata": {},
     "output_type": "execute_result"
    }
   ],
   "source": [
    "listdir"
   ]
  },
  {
   "cell_type": "code",
   "execution_count": 165,
   "id": "d1d00c0e-2f0a-4579-b6f3-492d13d18b63",
   "metadata": {
    "tags": []
   },
   "outputs": [],
   "source": [
    "result_array=[]\n",
    "player=[]\n",
    "for i in listdir:\n",
    "    for j in os.listdir('./'+i):\n",
    "        result_array.append(pd.read_csv('./'+ i +'/'+ j))\n",
    "        player.append(i + ' ' + j)"
   ]
  },
  {
   "cell_type": "code",
   "execution_count": 161,
   "id": "96e0f041-10d1-4d19-8f5e-1ca621512625",
   "metadata": {},
   "outputs": [
    {
     "data": {
      "text/plain": [
       "1532"
      ]
     },
     "execution_count": 161,
     "metadata": {},
     "output_type": "execute_result"
    }
   ],
   "source": [
    "len(result_array)"
   ]
  },
  {
   "cell_type": "code",
   "execution_count": 163,
   "id": "ce1d427a-7988-473e-9dc2-f2d0e6772f87",
   "metadata": {},
   "outputs": [
    {
     "data": {
      "text/plain": [
       "1532"
      ]
     },
     "execution_count": 163,
     "metadata": {},
     "output_type": "execute_result"
    }
   ],
   "source": [
    "len(player)"
   ]
  },
  {
   "cell_type": "code",
   "execution_count": 177,
   "id": "399a0646-6e68-414d-93d1-733ad09c76bc",
   "metadata": {},
   "outputs": [
    {
     "name": "stderr",
     "output_type": "stream",
     "text": [
      "f:\\anaconda\\envs\\covid19\\lib\\site-packages\\ipykernel_launcher.py:3: DeprecationWarning: elementwise comparison failed; this will raise an error in the future.\n",
      "  This is separate from the ipykernel package so we can avoid doing imports until\n"
     ]
    },
    {
     "name": "stdout",
     "output_type": "stream",
     "text": [
      "briannguyen results_best.zip == dragon_vn results_629.zip 94:183\n",
      "dragon_vn results_629.zip == briannguyen results_best.zip 183:94\n",
      "hieungotrung submission.zip == Lazyman results (2).zip 262:547\n",
      "hoaf13 hoaf13-8.zip == smartcall hoaf13-8.zip 285:914\n",
      "hoaf13 results9.zip == smartcall results9.zip 298:958\n",
      "hungdinhvan results (27).zip == khangtran97 submission.zip 318:455\n",
      "hungdinhvan results.zip == khangtran97 submission.zip 341:455\n",
      "jackha0508 results (22).zip == utension results (26).zip 366:1285\n",
      "jackha0508 results (23).zip == utension results (26).zip 367:1285\n",
      "Jindo results (26).zip == meoconxinhxan results (48).zip 411:646\n",
      "Jindo results (27).zip == meoconxinhxan results (48).zip 412:646\n",
      "khangtran97 submission.zip == hungdinhvan results (27).zip 455:318\n",
      "kitachi results (39).zip == hungdinhvan results (27).zip 501:318\n",
      "lamphattai results (43).zip == LHK results (8).zip 535:570\n",
      "Lazyman results (1).zip == hungdinhvan results (27).zip 545:318\n",
      "Lazyman results (2).zip == hieungotrung submission.zip 547:262\n",
      "LHK results (8).zip == lamphattai results (43).zip 570:535\n",
      "manhdung2011200 results (22).zip == phu181999 results.zip 602:879\n",
      "meoconxinhxan results (48).zip == Jindo results (26).zip 646:411\n",
      "nktoan nktoan.zip == hungdinhvan results (27).zip 809:318\n",
      "NNTTai results (3).zip == xngtinh results (21).zip 846:1496\n",
      "phattruong results (3).zip == wilnguyen2211 results.zip 866:1391\n",
      "phu181999 results.zip == manhdung2011200 results (22).zip 879:602\n",
      "quang results (1).zip == quangnh009182 results.zip 883:887\n",
      "quang results.zip == hungdinhvan results (27).zip 884:318\n",
      "quangnh009182 results (1).zip == hungdinhvan results (27).zip 886:318\n",
      "quangnh009182 results.zip == quang results (1).zip 887:883\n",
      "sherlockvn results (3).zip == hungdinhvan results (27).zip 905:318\n",
      "smartcall hoaf13-8.zip == hoaf13 hoaf13-8.zip 914:285\n",
      "smartcall results (14).zip == hungdinhvan results (27).zip 921:318\n",
      "smartcall results (3).zip == hungdinhvan results (27).zip 935:318\n",
      "smartcall results3 (1).zip == test123 results (2).zip 950:1005\n",
      "smartcall results3.zip == test123 results (2).zip 952:1005\n",
      "smartcall results9.zip == hoaf13 results9.zip 958:298\n",
      "tatu96 29.zip == wiseking 63.zip 978:1450\n",
      "tatu96 36.zip == wiseking 63.zip 985:1450\n",
      "test123 results (2).zip == smartcall results3 (1).zip 1005:950\n",
      "tinyswish results.csv (1).zip == hungdinhvan results (27).zip 1163:318\n",
      "tuan_minh_le results (2).zip == hungdinhvan results (27).zip 1262:318\n",
      "utension results (26).zip == jackha0508 results (22).zip 1285:366\n",
      "wilnguyen2211 results.zip == phattruong results (3).zip 1391:866\n",
      "wiseking 63.zip == tatu96 29.zip 1450:978\n",
      "xngtinh results (21).zip == NNTTai results (3).zip 1496:846\n",
      "Zic results (15).zip == hungdinhvan results (27).zip 1514:318\n",
      "Zic results (17).zip == hungdinhvan results (27).zip 1516:318\n",
      "Zic results (7).zip == hungdinhvan results (27).zip 1528:318\n"
     ]
    }
   ],
   "source": [
    "for i in range(len(result_array)):\n",
    "    for j in range(len(result_array)):\n",
    "        if np.mean(result_array[i]['assessment_result'].values == result_array[j]['assessment_result'].values) >=1 and i != j:\n",
    "            if player[j].split()[0] != player[i].split()[0]:\n",
    "                print(player[i] + ' == ' + player[j] +' '+ str(i) + ':'+str(j))\n",
    "                break\n",
    "                "
   ]
  },
  {
   "cell_type": "code",
   "execution_count": 175,
   "id": "818b2212-08dc-4f02-bd65-d23e14048a00",
   "metadata": {},
   "outputs": [
    {
     "data": {
      "text/html": [
       "<div>\n",
       "<style scoped>\n",
       "    .dataframe tbody tr th:only-of-type {\n",
       "        vertical-align: middle;\n",
       "    }\n",
       "\n",
       "    .dataframe tbody tr th {\n",
       "        vertical-align: top;\n",
       "    }\n",
       "\n",
       "    .dataframe thead th {\n",
       "        text-align: right;\n",
       "    }\n",
       "</style>\n",
       "<table border=\"1\" class=\"dataframe\">\n",
       "  <thead>\n",
       "    <tr style=\"text-align: right;\">\n",
       "      <th></th>\n",
       "      <th>uuid</th>\n",
       "      <th>assessment_result</th>\n",
       "    </tr>\n",
       "  </thead>\n",
       "  <tbody>\n",
       "    <tr>\n",
       "      <th>0</th>\n",
       "      <td>66ef1f05-fbb0-44cb-8bdb-8eb4df83359a</td>\n",
       "      <td>0.517560</td>\n",
       "    </tr>\n",
       "    <tr>\n",
       "      <th>1</th>\n",
       "      <td>73d13a12-f9bc-4554-af49-be24f6024a25</td>\n",
       "      <td>0.334846</td>\n",
       "    </tr>\n",
       "    <tr>\n",
       "      <th>2</th>\n",
       "      <td>d27dbe98-e061-4018-9900-d1f1d47feab1</td>\n",
       "      <td>0.883901</td>\n",
       "    </tr>\n",
       "    <tr>\n",
       "      <th>3</th>\n",
       "      <td>43c30e4c-5d35-4ebc-8235-8920b7688550</td>\n",
       "      <td>0.258603</td>\n",
       "    </tr>\n",
       "    <tr>\n",
       "      <th>4</th>\n",
       "      <td>1952aa84-d077-495d-a1a9-9686a30722e0</td>\n",
       "      <td>0.409070</td>\n",
       "    </tr>\n",
       "    <tr>\n",
       "      <th>...</th>\n",
       "      <td>...</td>\n",
       "      <td>...</td>\n",
       "    </tr>\n",
       "    <tr>\n",
       "      <th>345</th>\n",
       "      <td>093894c5-155d-4e13-bc9d-e31ebf36cc5a</td>\n",
       "      <td>0.065275</td>\n",
       "    </tr>\n",
       "    <tr>\n",
       "      <th>346</th>\n",
       "      <td>293a60c8-40f2-4198-9054-fff40ebb5e94</td>\n",
       "      <td>0.267367</td>\n",
       "    </tr>\n",
       "    <tr>\n",
       "      <th>347</th>\n",
       "      <td>63324c07-b831-4784-9819-84f5b8f2b506</td>\n",
       "      <td>0.216559</td>\n",
       "    </tr>\n",
       "    <tr>\n",
       "      <th>348</th>\n",
       "      <td>a3712501-d96a-4fc3-9f85-1f23981323a3</td>\n",
       "      <td>0.524969</td>\n",
       "    </tr>\n",
       "    <tr>\n",
       "      <th>349</th>\n",
       "      <td>16e34fc2-2986-4bc1-b43d-c02f406bf212</td>\n",
       "      <td>0.289817</td>\n",
       "    </tr>\n",
       "  </tbody>\n",
       "</table>\n",
       "<p>350 rows × 2 columns</p>\n",
       "</div>"
      ],
      "text/plain": [
       "                                     uuid  assessment_result\n",
       "0    66ef1f05-fbb0-44cb-8bdb-8eb4df83359a           0.517560\n",
       "1    73d13a12-f9bc-4554-af49-be24f6024a25           0.334846\n",
       "2    d27dbe98-e061-4018-9900-d1f1d47feab1           0.883901\n",
       "3    43c30e4c-5d35-4ebc-8235-8920b7688550           0.258603\n",
       "4    1952aa84-d077-495d-a1a9-9686a30722e0           0.409070\n",
       "..                                    ...                ...\n",
       "345  093894c5-155d-4e13-bc9d-e31ebf36cc5a           0.065275\n",
       "346  293a60c8-40f2-4198-9054-fff40ebb5e94           0.267367\n",
       "347  63324c07-b831-4784-9819-84f5b8f2b506           0.216559\n",
       "348  a3712501-d96a-4fc3-9f85-1f23981323a3           0.524969\n",
       "349  16e34fc2-2986-4bc1-b43d-c02f406bf212           0.289817\n",
       "\n",
       "[350 rows x 2 columns]"
      ]
     },
     "execution_count": 175,
     "metadata": {},
     "output_type": "execute_result"
    }
   ],
   "source": [
    "result_array[94]"
   ]
  },
  {
   "cell_type": "code",
   "execution_count": 176,
   "id": "e42bc49c-52a5-44bc-8e01-e61adfd5e959",
   "metadata": {},
   "outputs": [
    {
     "data": {
      "text/html": [
       "<div>\n",
       "<style scoped>\n",
       "    .dataframe tbody tr th:only-of-type {\n",
       "        vertical-align: middle;\n",
       "    }\n",
       "\n",
       "    .dataframe tbody tr th {\n",
       "        vertical-align: top;\n",
       "    }\n",
       "\n",
       "    .dataframe thead th {\n",
       "        text-align: right;\n",
       "    }\n",
       "</style>\n",
       "<table border=\"1\" class=\"dataframe\">\n",
       "  <thead>\n",
       "    <tr style=\"text-align: right;\">\n",
       "      <th></th>\n",
       "      <th>uuid</th>\n",
       "      <th>assessment_result</th>\n",
       "    </tr>\n",
       "  </thead>\n",
       "  <tbody>\n",
       "    <tr>\n",
       "      <th>0</th>\n",
       "      <td>66ef1f05-fbb0-44cb-8bdb-8eb4df83359a</td>\n",
       "      <td>0.517560</td>\n",
       "    </tr>\n",
       "    <tr>\n",
       "      <th>1</th>\n",
       "      <td>73d13a12-f9bc-4554-af49-be24f6024a25</td>\n",
       "      <td>0.334846</td>\n",
       "    </tr>\n",
       "    <tr>\n",
       "      <th>2</th>\n",
       "      <td>d27dbe98-e061-4018-9900-d1f1d47feab1</td>\n",
       "      <td>0.883901</td>\n",
       "    </tr>\n",
       "    <tr>\n",
       "      <th>3</th>\n",
       "      <td>43c30e4c-5d35-4ebc-8235-8920b7688550</td>\n",
       "      <td>0.258603</td>\n",
       "    </tr>\n",
       "    <tr>\n",
       "      <th>4</th>\n",
       "      <td>1952aa84-d077-495d-a1a9-9686a30722e0</td>\n",
       "      <td>0.409070</td>\n",
       "    </tr>\n",
       "    <tr>\n",
       "      <th>...</th>\n",
       "      <td>...</td>\n",
       "      <td>...</td>\n",
       "    </tr>\n",
       "    <tr>\n",
       "      <th>345</th>\n",
       "      <td>093894c5-155d-4e13-bc9d-e31ebf36cc5a</td>\n",
       "      <td>0.065275</td>\n",
       "    </tr>\n",
       "    <tr>\n",
       "      <th>346</th>\n",
       "      <td>293a60c8-40f2-4198-9054-fff40ebb5e94</td>\n",
       "      <td>0.267367</td>\n",
       "    </tr>\n",
       "    <tr>\n",
       "      <th>347</th>\n",
       "      <td>63324c07-b831-4784-9819-84f5b8f2b506</td>\n",
       "      <td>0.216559</td>\n",
       "    </tr>\n",
       "    <tr>\n",
       "      <th>348</th>\n",
       "      <td>a3712501-d96a-4fc3-9f85-1f23981323a3</td>\n",
       "      <td>0.524969</td>\n",
       "    </tr>\n",
       "    <tr>\n",
       "      <th>349</th>\n",
       "      <td>16e34fc2-2986-4bc1-b43d-c02f406bf212</td>\n",
       "      <td>0.289817</td>\n",
       "    </tr>\n",
       "  </tbody>\n",
       "</table>\n",
       "<p>350 rows × 2 columns</p>\n",
       "</div>"
      ],
      "text/plain": [
       "                                     uuid  assessment_result\n",
       "0    66ef1f05-fbb0-44cb-8bdb-8eb4df83359a           0.517560\n",
       "1    73d13a12-f9bc-4554-af49-be24f6024a25           0.334846\n",
       "2    d27dbe98-e061-4018-9900-d1f1d47feab1           0.883901\n",
       "3    43c30e4c-5d35-4ebc-8235-8920b7688550           0.258603\n",
       "4    1952aa84-d077-495d-a1a9-9686a30722e0           0.409070\n",
       "..                                    ...                ...\n",
       "345  093894c5-155d-4e13-bc9d-e31ebf36cc5a           0.065275\n",
       "346  293a60c8-40f2-4198-9054-fff40ebb5e94           0.267367\n",
       "347  63324c07-b831-4784-9819-84f5b8f2b506           0.216559\n",
       "348  a3712501-d96a-4fc3-9f85-1f23981323a3           0.524969\n",
       "349  16e34fc2-2986-4bc1-b43d-c02f406bf212           0.289817\n",
       "\n",
       "[350 rows x 2 columns]"
      ]
     },
     "execution_count": 176,
     "metadata": {},
     "output_type": "execute_result"
    }
   ],
   "source": [
    "result_array[183]"
   ]
  },
  {
   "cell_type": "code",
   "execution_count": null,
   "id": "222a0aa5-e898-4c09-a256-50963f7a8e61",
   "metadata": {},
   "outputs": [],
   "source": []
  }
 ],
 "metadata": {
  "kernelspec": {
   "display_name": "Python 3",
   "language": "python",
   "name": "python3"
  },
  "language_info": {
   "codemirror_mode": {
    "name": "ipython",
    "version": 3
   },
   "file_extension": ".py",
   "mimetype": "text/x-python",
   "name": "python",
   "nbconvert_exporter": "python",
   "pygments_lexer": "ipython3",
   "version": "3.6.13"
  }
 },
 "nbformat": 4,
 "nbformat_minor": 5
}
